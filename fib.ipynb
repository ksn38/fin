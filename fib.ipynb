{
 "cells": [
  {
   "cell_type": "code",
   "execution_count": 500,
   "metadata": {},
   "outputs": [],
   "source": [
    "import pandas as pd\n",
    "import numpy as np\n",
    "import matplotlib.pyplot as plt\n",
    "import matplotlib.dates as mdates\n",
    "from scipy import stats"
   ]
  },
  {
   "cell_type": "code",
   "execution_count": 501,
   "metadata": {},
   "outputs": [
    {
     "data": {
      "text/html": [
       "<div>\n",
       "<style scoped>\n",
       "    .dataframe tbody tr th:only-of-type {\n",
       "        vertical-align: middle;\n",
       "    }\n",
       "\n",
       "    .dataframe tbody tr th {\n",
       "        vertical-align: top;\n",
       "    }\n",
       "\n",
       "    .dataframe thead th {\n",
       "        text-align: right;\n",
       "    }\n",
       "</style>\n",
       "<table border=\"1\" class=\"dataframe\">\n",
       "  <thead>\n",
       "    <tr style=\"text-align: right;\">\n",
       "      <th></th>\n",
       "      <th>Date</th>\n",
       "      <th>Open</th>\n",
       "      <th>High</th>\n",
       "      <th>Low</th>\n",
       "      <th>Close</th>\n",
       "      <th>Adj Close</th>\n",
       "      <th>Volume</th>\n",
       "    </tr>\n",
       "  </thead>\n",
       "  <tbody>\n",
       "    <tr>\n",
       "      <th>0</th>\n",
       "      <td>1927-12-30</td>\n",
       "      <td>17.660000</td>\n",
       "      <td>17.660000</td>\n",
       "      <td>17.660000</td>\n",
       "      <td>17.660000</td>\n",
       "      <td>17.660000</td>\n",
       "      <td>0</td>\n",
       "    </tr>\n",
       "    <tr>\n",
       "      <th>1</th>\n",
       "      <td>1928-01-03</td>\n",
       "      <td>17.760000</td>\n",
       "      <td>17.760000</td>\n",
       "      <td>17.760000</td>\n",
       "      <td>17.760000</td>\n",
       "      <td>17.760000</td>\n",
       "      <td>0</td>\n",
       "    </tr>\n",
       "    <tr>\n",
       "      <th>2</th>\n",
       "      <td>1928-01-04</td>\n",
       "      <td>17.719999</td>\n",
       "      <td>17.719999</td>\n",
       "      <td>17.719999</td>\n",
       "      <td>17.719999</td>\n",
       "      <td>17.719999</td>\n",
       "      <td>0</td>\n",
       "    </tr>\n",
       "    <tr>\n",
       "      <th>3</th>\n",
       "      <td>1928-01-05</td>\n",
       "      <td>17.549999</td>\n",
       "      <td>17.549999</td>\n",
       "      <td>17.549999</td>\n",
       "      <td>17.549999</td>\n",
       "      <td>17.549999</td>\n",
       "      <td>0</td>\n",
       "    </tr>\n",
       "    <tr>\n",
       "      <th>4</th>\n",
       "      <td>1928-01-06</td>\n",
       "      <td>17.660000</td>\n",
       "      <td>17.660000</td>\n",
       "      <td>17.660000</td>\n",
       "      <td>17.660000</td>\n",
       "      <td>17.660000</td>\n",
       "      <td>0</td>\n",
       "    </tr>\n",
       "  </tbody>\n",
       "</table>\n",
       "</div>"
      ],
      "text/plain": [
       "         Date       Open       High        Low      Close  Adj Close  Volume\n",
       "0  1927-12-30  17.660000  17.660000  17.660000  17.660000  17.660000       0\n",
       "1  1928-01-03  17.760000  17.760000  17.760000  17.760000  17.760000       0\n",
       "2  1928-01-04  17.719999  17.719999  17.719999  17.719999  17.719999       0\n",
       "3  1928-01-05  17.549999  17.549999  17.549999  17.549999  17.549999       0\n",
       "4  1928-01-06  17.660000  17.660000  17.660000  17.660000  17.660000       0"
      ]
     },
     "execution_count": 501,
     "metadata": {},
     "output_type": "execute_result"
    }
   ],
   "source": [
    "SP = pd.read_csv('data/SnP500.csv').dropna()\n",
    "SP.head()"
   ]
  },
  {
   "cell_type": "code",
   "execution_count": 502,
   "metadata": {},
   "outputs": [],
   "source": [
    "# SP.rename(columns={'GOLDAMGBD228NLBM': 'Close'}, inplace=True)\n",
    "# SP.Close = SP.Close.apply(pd.to_numeric, errors='coerce')\n",
    "# SP.Close = SP.Close.fillna(method='ffill')"
   ]
  },
  {
   "cell_type": "code",
   "execution_count": 503,
   "metadata": {},
   "outputs": [
    {
     "name": "stdout",
     "output_type": "stream",
     "text": [
      "<class 'pandas.core.frame.DataFrame'>\n",
      "Int64Index: 23283 entries, 0 to 23282\n",
      "Data columns (total 7 columns):\n",
      " #   Column     Non-Null Count  Dtype  \n",
      "---  ------     --------------  -----  \n",
      " 0   Date       23283 non-null  object \n",
      " 1   Open       23283 non-null  float64\n",
      " 2   High       23283 non-null  float64\n",
      " 3   Low        23283 non-null  float64\n",
      " 4   Close      23283 non-null  float64\n",
      " 5   Adj Close  23283 non-null  float64\n",
      " 6   Volume     23283 non-null  int64  \n",
      "dtypes: float64(5), int64(1), object(1)\n",
      "memory usage: 1.4+ MB\n"
     ]
    }
   ],
   "source": [
    "SP.info()"
   ]
  },
  {
   "cell_type": "code",
   "execution_count": 504,
   "metadata": {},
   "outputs": [
    {
     "name": "stdout",
     "output_type": "stream",
     "text": [
      "[1, 2, 3, 5, 8, 13, 21, 34, 55, 89, 144, 233, 377, 610, 987, 1597, 2584]\n"
     ]
    }
   ],
   "source": [
    "i = 1\n",
    "f = [1, 2]\n",
    "\n",
    "for i in range(15):\n",
    "    i = f[-1] + f[-2]\n",
    "    f.append(i)\n",
    "    \n",
    "print(f)"
   ]
  },
  {
   "cell_type": "code",
   "execution_count": 505,
   "metadata": {},
   "outputs": [],
   "source": [
    "df = []\n",
    "\n",
    "for i in range(15000):\n",
    "    chnd = (SP.Close.iloc[-2 - i - 5]/SP.Close.iloc[-1 - i] - 1)*100\n",
    "    row = []\n",
    "    if chnd >= 0:\n",
    "        row.append(1)\n",
    "    else:\n",
    "        row.append(0)\n",
    "    for j in (2, 3, 5, 8, 13, 21, 34, 55, 89, 144, 233, 377, 610):\n",
    "        row.append(SP.Close.iloc[-j - i - 5])\n",
    "    df.append(row)\n",
    "    "
   ]
  },
  {
   "cell_type": "code",
   "execution_count": 506,
   "metadata": {},
   "outputs": [
    {
     "data": {
      "text/html": [
       "<div>\n",
       "<style scoped>\n",
       "    .dataframe tbody tr th:only-of-type {\n",
       "        vertical-align: middle;\n",
       "    }\n",
       "\n",
       "    .dataframe tbody tr th {\n",
       "        vertical-align: top;\n",
       "    }\n",
       "\n",
       "    .dataframe thead th {\n",
       "        text-align: right;\n",
       "    }\n",
       "</style>\n",
       "<table border=\"1\" class=\"dataframe\">\n",
       "  <thead>\n",
       "    <tr style=\"text-align: right;\">\n",
       "      <th></th>\n",
       "      <th>0</th>\n",
       "      <th>1</th>\n",
       "      <th>2</th>\n",
       "      <th>3</th>\n",
       "      <th>4</th>\n",
       "      <th>5</th>\n",
       "      <th>6</th>\n",
       "      <th>7</th>\n",
       "      <th>8</th>\n",
       "      <th>9</th>\n",
       "      <th>10</th>\n",
       "      <th>11</th>\n",
       "      <th>12</th>\n",
       "      <th>13</th>\n",
       "    </tr>\n",
       "  </thead>\n",
       "  <tbody>\n",
       "    <tr>\n",
       "      <th>0</th>\n",
       "      <td>1</td>\n",
       "      <td>3500.310059</td>\n",
       "      <td>3508.010010</td>\n",
       "      <td>3478.729980</td>\n",
       "      <td>3397.159912</td>\n",
       "      <td>3372.850098</td>\n",
       "      <td>3306.510010</td>\n",
       "      <td>3215.570068</td>\n",
       "      <td>3124.739990</td>\n",
       "      <td>2863.389893</td>\n",
       "      <td>3327.709961</td>\n",
       "      <td>2940.250000</td>\n",
       "      <td>2748.929932</td>\n",
       "      <td>2614.449951</td>\n",
       "    </tr>\n",
       "    <tr>\n",
       "      <th>1</th>\n",
       "      <td>1</td>\n",
       "      <td>3508.010010</td>\n",
       "      <td>3484.550049</td>\n",
       "      <td>3443.620117</td>\n",
       "      <td>3385.510010</td>\n",
       "      <td>3373.429932</td>\n",
       "      <td>3294.610107</td>\n",
       "      <td>3226.560059</td>\n",
       "      <td>3066.590088</td>\n",
       "      <td>2878.479980</td>\n",
       "      <td>3345.780029</td>\n",
       "      <td>2976.739990</td>\n",
       "      <td>2771.449951</td>\n",
       "      <td>2581.879883</td>\n",
       "    </tr>\n",
       "    <tr>\n",
       "      <th>2</th>\n",
       "      <td>1</td>\n",
       "      <td>3484.550049</td>\n",
       "      <td>3478.729980</td>\n",
       "      <td>3431.280029</td>\n",
       "      <td>3374.850098</td>\n",
       "      <td>3380.350098</td>\n",
       "      <td>3271.120117</td>\n",
       "      <td>3197.520020</td>\n",
       "      <td>3041.310059</td>\n",
       "      <td>2836.739990</td>\n",
       "      <td>3334.689941</td>\n",
       "      <td>2961.790039</td>\n",
       "      <td>2789.649902</td>\n",
       "      <td>2640.870117</td>\n",
       "    </tr>\n",
       "    <tr>\n",
       "      <th>3</th>\n",
       "      <td>1</td>\n",
       "      <td>3478.729980</td>\n",
       "      <td>3443.620117</td>\n",
       "      <td>3397.159912</td>\n",
       "      <td>3389.780029</td>\n",
       "      <td>3333.689941</td>\n",
       "      <td>3246.219971</td>\n",
       "      <td>3155.219971</td>\n",
       "      <td>3002.100098</td>\n",
       "      <td>2797.800049</td>\n",
       "      <td>3297.590088</td>\n",
       "      <td>2977.620117</td>\n",
       "      <td>2792.810059</td>\n",
       "      <td>2605.000000</td>\n",
       "    </tr>\n",
       "    <tr>\n",
       "      <th>4</th>\n",
       "      <td>0</td>\n",
       "      <td>3443.620117</td>\n",
       "      <td>3431.280029</td>\n",
       "      <td>3385.510010</td>\n",
       "      <td>3381.989990</td>\n",
       "      <td>3360.469971</td>\n",
       "      <td>3258.439941</td>\n",
       "      <td>3185.040039</td>\n",
       "      <td>3190.139893</td>\n",
       "      <td>2799.310059</td>\n",
       "      <td>3248.919922</td>\n",
       "      <td>2984.870117</td>\n",
       "      <td>2803.689941</td>\n",
       "      <td>2612.620117</td>\n",
       "    </tr>\n",
       "  </tbody>\n",
       "</table>\n",
       "</div>"
      ],
      "text/plain": [
       "   0            1            2            3            4            5  \\\n",
       "0  1  3500.310059  3508.010010  3478.729980  3397.159912  3372.850098   \n",
       "1  1  3508.010010  3484.550049  3443.620117  3385.510010  3373.429932   \n",
       "2  1  3484.550049  3478.729980  3431.280029  3374.850098  3380.350098   \n",
       "3  1  3478.729980  3443.620117  3397.159912  3389.780029  3333.689941   \n",
       "4  0  3443.620117  3431.280029  3385.510010  3381.989990  3360.469971   \n",
       "\n",
       "             6            7            8            9           10  \\\n",
       "0  3306.510010  3215.570068  3124.739990  2863.389893  3327.709961   \n",
       "1  3294.610107  3226.560059  3066.590088  2878.479980  3345.780029   \n",
       "2  3271.120117  3197.520020  3041.310059  2836.739990  3334.689941   \n",
       "3  3246.219971  3155.219971  3002.100098  2797.800049  3297.590088   \n",
       "4  3258.439941  3185.040039  3190.139893  2799.310059  3248.919922   \n",
       "\n",
       "            11           12           13  \n",
       "0  2940.250000  2748.929932  2614.449951  \n",
       "1  2976.739990  2771.449951  2581.879883  \n",
       "2  2961.790039  2789.649902  2640.870117  \n",
       "3  2977.620117  2792.810059  2605.000000  \n",
       "4  2984.870117  2803.689941  2612.620117  "
      ]
     },
     "execution_count": 506,
     "metadata": {},
     "output_type": "execute_result"
    }
   ],
   "source": [
    "df = pd.DataFrame(df)\n",
    "df.columns = ['0', '1', '2', '3', '4', '5', '6', '7', '8', '9', '10', '11', '12', '13']\n",
    "df.head()"
   ]
  },
  {
   "cell_type": "code",
   "execution_count": 507,
   "metadata": {},
   "outputs": [
    {
     "name": "stdout",
     "output_type": "stream",
     "text": [
      "<class 'pandas.core.frame.DataFrame'>\n",
      "RangeIndex: 15000 entries, 0 to 14999\n",
      "Data columns (total 14 columns):\n",
      " #   Column  Non-Null Count  Dtype  \n",
      "---  ------  --------------  -----  \n",
      " 0   0       15000 non-null  int64  \n",
      " 1   1       15000 non-null  float64\n",
      " 2   2       15000 non-null  float64\n",
      " 3   3       15000 non-null  float64\n",
      " 4   4       15000 non-null  float64\n",
      " 5   5       15000 non-null  float64\n",
      " 6   6       15000 non-null  float64\n",
      " 7   7       15000 non-null  float64\n",
      " 8   8       15000 non-null  float64\n",
      " 9   9       15000 non-null  float64\n",
      " 10  10      15000 non-null  float64\n",
      " 11  11      15000 non-null  float64\n",
      " 12  12      15000 non-null  float64\n",
      " 13  13      15000 non-null  float64\n",
      "dtypes: float64(13), int64(1)\n",
      "memory usage: 1.6 MB\n"
     ]
    }
   ],
   "source": [
    "df.info()"
   ]
  },
  {
   "cell_type": "code",
   "execution_count": 508,
   "metadata": {},
   "outputs": [],
   "source": [
    "from sklearn.pipeline import FeatureUnion\n",
    "from sklearn.preprocessing import StandardScaler\n",
    "from sklearn.base import BaseEstimator, TransformerMixin\n",
    "from sklearn.pipeline import Pipeline, make_pipeline\n",
    "from sklearn.ensemble import RandomForestClassifier, GradientBoostingClassifier\n",
    "from sklearn.linear_model import LogisticRegression\n",
    "from sklearn.model_selection import cross_val_score, train_test_split\n",
    "from sklearn.metrics import f1_score, roc_auc_score, precision_score, recall_score, classification_report, precision_recall_curve, confusion_matrix"
   ]
  },
  {
   "cell_type": "code",
   "execution_count": 509,
   "metadata": {},
   "outputs": [],
   "source": [
    "X_train, X_test, y_train, y_test = train_test_split(df.drop(['0'], 1), df['0'], random_state=0)"
   ]
  },
  {
   "cell_type": "code",
   "execution_count": 510,
   "metadata": {},
   "outputs": [],
   "source": [
    "class NumberSelector(BaseEstimator, TransformerMixin):\n",
    "    \"\"\"\n",
    "    Transformer to select a single column from the data frame to perform additional transformations on\n",
    "    Use on numeric columns in the data\n",
    "    \"\"\"\n",
    "    def __init__(self, key):\n",
    "        self.key = key\n",
    "\n",
    "    def fit(self, X, y=None):\n",
    "        return self\n",
    "\n",
    "    def transform(self, X):\n",
    "        return X[[self.key]]\n",
    "    \n",
    "\n",
    "continuous_columns = ['1', '2', '3', '4', '5', '6', '7', '8', '9', '10', '11', '12', '13']\n",
    "\n",
    "final_transformers = list()\n",
    "    \n",
    "for cont_col in continuous_columns:\n",
    "    cont_transformer = Pipeline([\n",
    "                ('selector', NumberSelector(key=cont_col)),\n",
    "                ('standard', StandardScaler())\n",
    "            ])\n",
    "    final_transformers.append((cont_col, cont_transformer))\n",
    "\n",
    "feats = FeatureUnion(final_transformers)\n",
    "feature_processing = Pipeline([('feats', feats)])\n",
    "\n",
    "pipeline = Pipeline([\n",
    "    ('features',feats),\n",
    "    ('classifier', GradientBoostingClassifier(random_state = 42)),\n",
    "])\n",
    "\n",
    "pipeline.fit(X_train, y_train)\n",
    "preds = pipeline.predict_proba(X_test)[:, 1]"
   ]
  },
  {
   "cell_type": "code",
   "execution_count": 518,
   "metadata": {},
   "outputs": [
    {
     "name": "stdout",
     "output_type": "stream",
     "text": [
      "Best Threshold=0.539, F-Score=0.027, Precision=0.723, Recall=0.165\n",
      "0.6530233177394428\n"
     ]
    }
   ],
   "source": [
    "# rf = RandomForestClassifier()\n",
    "# rf.fit(X_train, y_train)\n",
    "# preds = rf.predict_proba(X_test)[:, 1]\n",
    "\n",
    "precision, recall, thresholds = precision_recall_curve(y_test, preds)\n",
    "\n",
    "fscore = (2 * precision/50 * recall) / (precision/50 + recall)\n",
    "# fscore = (2 * precision * recall) / (precision + recall)\n",
    "# locate the index of the largest f score\n",
    "ix = np.argmax(fscore)\n",
    "print('Best Threshold=%.3f, F-Score=%.3f, Precision=%.3f, Recall=%.3f' % (thresholds[ix], \n",
    "                                                                        fscore[ix],\n",
    "                                                                        precision[ix],\n",
    "                                                                        recall[ix]))\n",
    "\n",
    "roc_auc = roc_auc_score(y_true=y_test, y_score=preds)\n",
    "print(roc_auc)"
   ]
  },
  {
   "cell_type": "code",
   "execution_count": 512,
   "metadata": {},
   "outputs": [
    {
     "data": {
      "text/plain": [
       "array([0.40719492, 0.45421928, 0.41803849, ..., 0.54959133, 0.39553911,\n",
       "       0.48419821])"
      ]
     },
     "execution_count": 512,
     "metadata": {},
     "output_type": "execute_result"
    }
   ],
   "source": [
    "preds"
   ]
  }
 ],
 "metadata": {
  "kernelspec": {
   "display_name": "Python 3",
   "language": "python",
   "name": "python3"
  },
  "language_info": {
   "codemirror_mode": {
    "name": "ipython",
    "version": 3
   },
   "file_extension": ".py",
   "mimetype": "text/x-python",
   "name": "python",
   "nbconvert_exporter": "python",
   "pygments_lexer": "ipython3",
   "version": "3.7.8"
  }
 },
 "nbformat": 4,
 "nbformat_minor": 4
}
