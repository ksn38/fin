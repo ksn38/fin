{
 "cells": [
  {
   "cell_type": "code",
   "execution_count": 1,
   "metadata": {},
   "outputs": [],
   "source": [
    "import pandas as pd\n",
    "import numpy as np\n",
    "import matplotlib.pyplot as plt\n",
    "import matplotlib.dates as mdates\n",
    "from scipy import stats\n",
    "import dill\n",
    "from sklearn.model_selection import cross_val_score, train_test_split\n",
    "from sklearn.preprocessing import StandardScaler, MinMaxScaler, minmax_scale"
   ]
  },
  {
   "cell_type": "code",
   "execution_count": 2,
   "metadata": {},
   "outputs": [
    {
     "data": {
      "text/html": [
       "<div>\n",
       "<style scoped>\n",
       "    .dataframe tbody tr th:only-of-type {\n",
       "        vertical-align: middle;\n",
       "    }\n",
       "\n",
       "    .dataframe tbody tr th {\n",
       "        vertical-align: top;\n",
       "    }\n",
       "\n",
       "    .dataframe thead th {\n",
       "        text-align: right;\n",
       "    }\n",
       "</style>\n",
       "<table border=\"1\" class=\"dataframe\">\n",
       "  <thead>\n",
       "    <tr style=\"text-align: right;\">\n",
       "      <th></th>\n",
       "      <th>gspc</th>\n",
       "      <th>vix</th>\n",
       "      <th>tnx</th>\n",
       "      <th>ixic</th>\n",
       "      <th>rut</th>\n",
       "      <th>wti</th>\n",
       "      <th>gold</th>\n",
       "    </tr>\n",
       "  </thead>\n",
       "  <tbody>\n",
       "    <tr>\n",
       "      <th>0</th>\n",
       "      <td>1301.530029</td>\n",
       "      <td>22.120001</td>\n",
       "      <td>5.093</td>\n",
       "      <td>2425.379883</td>\n",
       "      <td>499.279999</td>\n",
       "      <td>29.160000</td>\n",
       "      <td>258.200012</td>\n",
       "    </tr>\n",
       "    <tr>\n",
       "      <th>1</th>\n",
       "      <td>1278.939941</td>\n",
       "      <td>24.690001</td>\n",
       "      <td>5.097</td>\n",
       "      <td>2318.350098</td>\n",
       "      <td>491.140015</td>\n",
       "      <td>28.580000</td>\n",
       "      <td>256.100006</td>\n",
       "    </tr>\n",
       "    <tr>\n",
       "      <th>2</th>\n",
       "      <td>1255.270020</td>\n",
       "      <td>25.750000</td>\n",
       "      <td>5.129</td>\n",
       "      <td>2268.939941</td>\n",
       "      <td>483.510010</td>\n",
       "      <td>28.549999</td>\n",
       "      <td>258.200012</td>\n",
       "    </tr>\n",
       "    <tr>\n",
       "      <th>3</th>\n",
       "      <td>1252.819946</td>\n",
       "      <td>26.760000</td>\n",
       "      <td>5.154</td>\n",
       "      <td>2244.959961</td>\n",
       "      <td>477.260010</td>\n",
       "      <td>28.820000</td>\n",
       "      <td>258.500000</td>\n",
       "    </tr>\n",
       "    <tr>\n",
       "      <th>4</th>\n",
       "      <td>1245.859985</td>\n",
       "      <td>27.209999</td>\n",
       "      <td>5.080</td>\n",
       "      <td>2262.510010</td>\n",
       "      <td>477.450012</td>\n",
       "      <td>29.000000</td>\n",
       "      <td>260.899994</td>\n",
       "    </tr>\n",
       "  </tbody>\n",
       "</table>\n",
       "</div>"
      ],
      "text/plain": [
       "          gspc        vix    tnx         ixic         rut        wti  \\\n",
       "0  1301.530029  22.120001  5.093  2425.379883  499.279999  29.160000   \n",
       "1  1278.939941  24.690001  5.097  2318.350098  491.140015  28.580000   \n",
       "2  1255.270020  25.750000  5.129  2268.939941  483.510010  28.549999   \n",
       "3  1252.819946  26.760000  5.154  2244.959961  477.260010  28.820000   \n",
       "4  1245.859985  27.209999  5.080  2262.510010  477.450012  29.000000   \n",
       "\n",
       "         gold  \n",
       "0  258.200012  \n",
       "1  256.100006  \n",
       "2  258.200012  \n",
       "3  258.500000  \n",
       "4  260.899994  "
      ]
     },
     "execution_count": 2,
     "metadata": {},
     "output_type": "execute_result"
    }
   ],
   "source": [
    "df = pd.read_csv('mybl_ticker.csv').dropna()\n",
    "df = df.drop('date_added', axis=1)\n",
    "df.head()"
   ]
  },
  {
   "cell_type": "code",
   "execution_count": null,
   "metadata": {},
   "outputs": [],
   "source": [
    "# X_train, X_test, y_train, y_test = train_test_split(df.drop(['vix'], 1), df['vix'], random_state=0)"
   ]
  },
  {
   "cell_type": "code",
   "execution_count": 3,
   "metadata": {},
   "outputs": [
    {
     "name": "stdout",
     "output_type": "stream",
     "text": [
      "[[0. 0. 0. 0. 0. 0. 0.]\n",
      " [0. 0. 0. 0. 0. 0. 0.]\n",
      " [0. 0. 0. 0. 0. 0. 0.]\n",
      " [0. 0. 0. 0. 0. 0. 0.]\n",
      " [0. 0. 0. 0. 0. 0. 0.]\n",
      " [0. 0. 0. 0. 0. 0. 0.]\n",
      " [0. 0. 0. 0. 0. 0. 0.]]\n",
      "[1.         0.59421466 0.16903229 0.12502165 0.         0.39141408\n",
      " 0.21699203]\n"
     ]
    }
   ],
   "source": [
    "arr = np.zeros((7, 7))\n",
    "print(arr)\n",
    "# for i in range(len(df) - 7):\n",
    "#     slide = \n",
    "print(minmax_scale(np.array(df)[:7, 0]))"
   ]
  },
  {
   "cell_type": "code",
   "execution_count": 10,
   "metadata": {},
   "outputs": [],
   "source": [
    "import numpy as np\n",
    "from tensorflow import keras\n",
    "from tensorflow.keras import layers"
   ]
  },
  {
   "cell_type": "code",
   "execution_count": 11,
   "metadata": {},
   "outputs": [
    {
     "name": "stdout",
     "output_type": "stream",
     "text": [
      "x_train shape: (60000, 28, 28, 1)\n",
      "60000 train samples\n",
      "10000 test samples\n"
     ]
    }
   ],
   "source": [
    "num_classes = 10\n",
    "input_shape = (28, 28, 1)\n",
    "\n",
    "# the data, split between train and test sets\n",
    "(x_train, y_train), (x_test, y_test) = keras.datasets.mnist.load_data()\n",
    "\n",
    "# Scale images to the [0, 1] range\n",
    "x_train = x_train.astype(\"float32\") / 255\n",
    "x_test = x_test.astype(\"float32\") / 255\n",
    "# Make sure images have shape (28, 28, 1)\n",
    "x_train = np.expand_dims(x_train, -1)\n",
    "x_test = np.expand_dims(x_test, -1)\n",
    "print(\"x_train shape:\", x_train.shape)\n",
    "print(x_train.shape[0], \"train samples\")\n",
    "print(x_test.shape[0], \"test samples\")\n",
    "\n",
    "\n",
    "# convert class vectors to binary class matrices\n",
    "y_train = keras.utils.to_categorical(y_train, num_classes)\n",
    "y_test = keras.utils.to_categorical(y_test, num_classes)"
   ]
  },
  {
   "cell_type": "code",
   "execution_count": 45,
   "metadata": {},
   "outputs": [
    {
     "data": {
      "text/plain": [
       "(28, 28, 1)"
      ]
     },
     "execution_count": 45,
     "metadata": {},
     "output_type": "execute_result"
    }
   ],
   "source": [
    "np.shape(x_train[0])"
   ]
  },
  {
   "cell_type": "code",
   "execution_count": 62,
   "metadata": {},
   "outputs": [
    {
     "data": {
      "text/plain": [
       "<matplotlib.image.AxesImage at 0x17691c87588>"
      ]
     },
     "execution_count": 62,
     "metadata": {},
     "output_type": "execute_result"
    },
    {
     "data": {
      "image/png": "[encoded data removed]",
      "text/plain": [
       "<Figure size 432x288 with 1 Axes>"
      ]
     },
     "metadata": {
      "needs_background": "light"
     },
     "output_type": "display_data"
    }
   ],
   "source": [
    "data = np.random.randn(28, 28)\n",
    "plt.imshow(data)"
   ]
  },
  {
   "cell_type": "code",
   "execution_count": 72,
   "metadata": {},
   "outputs": [
    {
     "data": {
      "text/plain": [
       "array([[-3.77412503e-01,  4.15129293e-02, -8.38154315e-02,\n",
       "         7.03130792e-01, -2.39572786e-01,  1.12150756e+00,\n",
       "        -4.53520967e-02,  8.57131323e-01, -4.00666452e-03,\n",
       "        -3.87308615e-01, -1.03908881e+00, -7.36753433e-01,\n",
       "         1.29431948e+00,  2.85945653e+00, -8.98556131e-01,\n",
       "         9.41609253e-01,  1.09024938e+00, -5.53066903e-01,\n",
       "        -2.51395405e-01, -5.67713208e-01, -1.09674265e+00,\n",
       "         1.83900796e+00, -6.48310908e-01, -1.15765773e+00,\n",
       "        -1.51872211e+00, -9.43143452e-01,  1.03630008e+00,\n",
       "        -4.48096852e-01],\n",
       "       [ 1.17546436e-01, -1.20685553e+00,  8.85168121e-01,\n",
       "        -1.12326567e+00, -3.71538423e-01,  1.32415965e+00,\n",
       "        -9.05221247e-01, -2.80845685e-01, -1.44295222e+00,\n",
       "         1.24839055e+00, -2.77886736e-01,  5.43046081e-01,\n",
       "         8.26418456e-01, -2.23204170e+00, -3.98668276e-01,\n",
       "         3.07482103e-01,  3.27864976e-01, -3.82864121e-01,\n",
       "        -1.16839411e-01, -1.63541764e+00,  8.20383113e-01,\n",
       "         7.38974075e-01,  1.45220073e-01,  1.38935609e+00,\n",
       "        -2.23985107e-02,  1.96154637e+00,  1.52227517e-01,\n",
       "        -4.56766220e-01],\n",
       "       [-1.15775355e+00, -1.00196007e-01,  1.08559566e-01,\n",
       "         5.12865107e-01, -2.05425370e+00, -6.35864279e-01,\n",
       "        -5.50491343e-01,  2.51841775e+00,  7.28075672e-01,\n",
       "        -1.61461915e-01, -2.28110135e-01,  1.98934588e-01,\n",
       "        -2.84878991e-02, -1.01883989e+00, -1.03523219e+00,\n",
       "         1.59669028e+00,  5.68688246e-01,  1.09071216e+00,\n",
       "         6.19571504e-01,  4.77333778e-01,  1.58965558e-01,\n",
       "        -1.83654060e-01,  4.63924784e-01, -2.35683365e+00,\n",
       "         1.48886226e-02,  5.35422481e-02, -1.19530543e+00,\n",
       "         5.71440230e-01],\n",
       "       [-6.82209736e-02,  1.25254341e+00, -4.80191434e-01,\n",
       "        -4.12335323e-01,  6.33005648e-01,  2.01169450e+00,\n",
       "        -2.66046143e+00, -1.36895669e+00,  2.17230064e-01,\n",
       "         7.61798097e-01, -9.08047684e-01, -5.67440636e-01,\n",
       "        -1.51133948e+00, -4.66841657e-01,  1.15875129e+00,\n",
       "        -2.08335760e-01, -1.79744116e-01,  1.15081972e+00,\n",
       "         1.21869427e+00,  1.55615769e-01,  6.82999462e-01,\n",
       "        -2.05174011e+00, -9.84516770e-01, -1.72125065e+00,\n",
       "         1.74289463e+00, -4.05404929e-01,  2.54108205e-02,\n",
       "        -8.31687484e-01],\n",
       "       [ 2.44515832e+00,  8.39314051e-02, -9.77516341e-01,\n",
       "        -1.58694649e-01, -1.41341824e+00, -1.79814326e+00,\n",
       "        -8.49724856e-01,  1.79952188e+00,  1.32651672e-01,\n",
       "        -1.01793662e+00, -8.08571237e-01,  6.15160355e-01,\n",
       "        -3.41880922e-01,  8.36920348e-01, -4.15454215e-01,\n",
       "        -2.12324082e+00, -1.63063682e+00,  2.49185325e-01,\n",
       "         8.93541015e-01, -8.21858737e-01,  1.53175319e+00,\n",
       "        -4.15395071e-01, -2.46153995e-01, -9.49890920e-01,\n",
       "        -1.11566148e-01, -3.92260623e-01, -4.15893058e-01,\n",
       "         4.13612294e+00],\n",
       "       [ 9.21125749e-01, -1.20500514e+00,  1.01507946e+00,\n",
       "         2.44870638e-01, -1.51338804e+00,  3.60290142e-01,\n",
       "         1.74386225e+00, -5.29484911e-01,  1.36756210e-01,\n",
       "        -3.76075900e-01, -6.93818104e-01,  5.63831577e-01,\n",
       "        -7.36607553e-01,  3.00436851e-01,  1.95732342e+00,\n",
       "         2.12570147e-01, -1.13239532e+00,  4.19429375e-01,\n",
       "         1.35695394e+00,  1.42642918e+00, -4.45140419e-01,\n",
       "         1.00300940e+00, -7.35353730e-01, -1.07113923e+00,\n",
       "         4.89755218e-01,  5.64236082e-01, -1.37326918e+00,\n",
       "         1.07315117e-02],\n",
       "       [ 9.24303797e-02,  4.76828046e-02,  6.74381896e-01,\n",
       "         6.14942611e-01, -1.05511001e+00,  1.05382438e+00,\n",
       "         4.23851392e-01,  3.05867034e-01, -8.54744744e-01,\n",
       "         9.87987786e-01,  8.56667557e-01, -2.75438759e+00,\n",
       "         9.03804093e-01, -5.57619599e-01,  6.11955671e-01,\n",
       "         5.80272365e-01, -1.20579232e+00,  1.43471634e+00,\n",
       "        -3.00812025e-01, -7.17205553e-01, -1.14561527e-01,\n",
       "         6.65319878e-02, -2.58429560e-01, -2.43327825e-01,\n",
       "         4.66805654e-01, -1.49445470e-01,  6.25783312e-01,\n",
       "         6.04968961e-01],\n",
       "       [-4.56752680e-01, -7.13193260e-01, -6.07093060e-02,\n",
       "        -9.23267869e-01,  1.82824576e+00,  9.26845412e-01,\n",
       "         1.30811313e+00,  5.83920532e-02, -1.66375971e-01,\n",
       "         1.96652069e+00,  1.37544549e+00, -3.83341604e-02,\n",
       "        -1.30817839e+00,  3.58302986e-01, -1.56738957e+00,\n",
       "        -2.48973519e-01, -1.36288925e+00, -1.95997825e+00,\n",
       "        -5.01201210e-02, -4.21703472e-01, -1.71748371e+00,\n",
       "         1.93486643e+00,  6.97556352e-03,  1.56913305e+00,\n",
       "         5.46913728e-02, -1.25848902e+00,  1.03982173e+00,\n",
       "         1.29104932e-01],\n",
       "       [-9.77917419e-02, -1.80255848e-01,  9.48346232e-01,\n",
       "        -4.25156161e-01, -4.10962464e-01, -2.96451747e-02,\n",
       "         2.07880814e+00,  6.29313200e-01, -5.15953847e-01,\n",
       "        -3.43300581e-01, -1.27019986e+00, -3.09995793e-01,\n",
       "         8.80043741e-01,  1.03949517e+00, -1.45816003e-01,\n",
       "        -1.82630081e+00,  1.14282568e+00,  3.71222377e-01,\n",
       "         5.33194505e-01,  3.05487973e-01, -2.29667630e+00,\n",
       "         1.19691457e+00,  6.79843304e-01,  1.47318711e+00,\n",
       "         2.86175923e-01,  5.90925915e-01,  1.60609020e+00,\n",
       "        -1.15928546e+00],\n",
       "       [ 1.10158810e+00,  1.71195186e+00,  1.17856296e-01,\n",
       "         1.76046061e+00,  1.72800922e+00,  9.65353243e-01,\n",
       "         6.64520171e-01, -7.70947749e-01, -5.11439656e-01,\n",
       "         1.21073215e+00,  1.17049583e-01,  7.56646945e-01,\n",
       "         1.32578261e+00, -4.21774340e-01, -2.69702617e-01,\n",
       "        -1.19426653e+00,  1.47558516e-02,  4.88355224e-01,\n",
       "         4.67101726e-01,  1.98483531e-01,  1.66642572e+00,\n",
       "         9.66183634e-01, -1.69020817e+00, -8.85469881e-01,\n",
       "         2.38911191e+00,  3.74099231e-01, -7.54724091e-01,\n",
       "         2.19016819e+00],\n",
       "       [-5.83172022e-01, -2.56934003e-01,  5.19832673e-01,\n",
       "        -8.26651596e-01, -2.22597042e+00, -6.77334446e-01,\n",
       "        -2.65104403e-01,  2.12042166e+00,  8.23484181e-02,\n",
       "         1.87451847e-01,  7.63040852e-02, -1.41657244e+00,\n",
       "        -2.17564607e+00, -1.02939678e+00,  3.12462491e-01,\n",
       "        -2.03465298e-01,  9.55011699e-01, -3.26933735e-01,\n",
       "         7.04942116e-01, -1.30975289e+00, -2.82834115e-01,\n",
       "        -8.49173059e-01,  1.23225672e+00, -1.77012584e+00,\n",
       "         6.72433517e-01,  3.60233036e-01,  2.17012213e-01,\n",
       "        -1.69034524e-01],\n",
       "       [ 1.83298090e+00,  1.19374825e+00, -1.05577997e+00,\n",
       "         5.83376954e-01, -5.94929865e-01, -8.68727673e-01,\n",
       "         1.85499486e-01,  1.20921663e+00,  7.17316438e-01,\n",
       "        -8.82778403e-01,  4.75573570e-01, -5.42783302e-01,\n",
       "         7.00091414e-01, -5.91903650e-01,  4.86855557e-01,\n",
       "        -3.22717243e-01,  5.81496409e-01, -6.10248812e-01,\n",
       "         1.32102069e+00, -8.44935462e-01,  5.99679061e-01,\n",
       "        -1.52271685e+00, -1.87856684e+00,  2.46318695e+00,\n",
       "         4.98419933e-02, -1.86082038e-01, -1.17871099e+00,\n",
       "         1.06117791e+00],\n",
       "       [-8.17572518e-01, -7.99593671e-02, -7.08861275e-02,\n",
       "         4.32986216e-01, -1.48762100e-01,  2.08541392e-01,\n",
       "        -2.69771531e-01,  1.58294408e+00, -5.18200330e-02,\n",
       "        -1.44392415e+00, -2.60003682e+00, -1.35394984e+00,\n",
       "        -1.25224995e+00, -1.43015283e-01, -1.28140107e+00,\n",
       "         1.86077665e+00,  4.33596859e-02,  1.28881302e+00,\n",
       "         3.72164948e-01, -2.57837695e-02,  1.12678463e+00,\n",
       "        -9.83695194e-01,  1.30119286e+00, -8.32312191e-01,\n",
       "         2.06817148e+00, -7.14246842e-01,  1.87751173e-01,\n",
       "         1.41522989e+00],\n",
       "       [ 1.12497860e+00,  1.79824097e-01, -2.80975587e-01,\n",
       "         1.42722392e+00, -8.04704514e-01, -1.06315560e+00,\n",
       "        -1.26438036e+00,  4.40238499e-01,  8.71554788e-01,\n",
       "        -6.96128299e-01,  5.96366831e-01, -1.53904922e+00,\n",
       "        -9.97780513e-02,  6.56041538e-01,  3.75218204e-01,\n",
       "        -1.04022265e+00, -6.60226159e-01,  6.14558137e-01,\n",
       "        -1.60004137e+00, -1.05245241e+00, -1.80630608e+00,\n",
       "        -9.65701190e-02,  9.36097060e-01, -6.94955403e-02,\n",
       "         1.23508683e+00, -1.19226970e+00,  6.67527586e-01,\n",
       "         2.70284492e+00],\n",
       "       [-1.96136931e-01, -1.32225363e+00,  1.27794088e+00,\n",
       "        -1.92447779e+00,  7.02533710e-01, -9.45258013e-01,\n",
       "        -9.34482325e-01,  7.63733997e-01, -6.30338970e-01,\n",
       "         8.28105974e-01, -1.77496888e+00, -2.31054287e+00,\n",
       "         1.52160905e+00,  1.42502249e+00, -1.38777963e+00,\n",
       "         1.34225231e-01,  3.26147290e-01,  1.33529394e-01,\n",
       "         6.05140495e-01, -2.34493923e-01, -6.28882678e-01,\n",
       "         1.80513009e+00, -4.78971214e-01, -1.56589067e+00,\n",
       "         6.16307235e-02, -2.40610648e-01,  6.52350179e-01,\n",
       "         3.68885455e-01],\n",
       "       [ 2.14660612e-02, -1.03062326e+00,  9.19869924e-01,\n",
       "        -3.15842433e-01, -2.92873138e-01,  1.14787292e+00,\n",
       "         1.66287374e+00,  2.12844873e+00,  2.34238496e-01,\n",
       "         3.41778491e-01, -8.31800858e-01, -4.82163143e-01,\n",
       "        -3.62881123e-01,  1.34744014e+00,  1.94980345e+00,\n",
       "         1.05374446e+00, -1.05989919e+00,  1.04690122e+00,\n",
       "        -1.74019685e+00, -1.75277924e+00,  1.30286027e+00,\n",
       "        -1.29133073e+00, -4.51650910e-01,  1.94685325e-01,\n",
       "        -6.24682967e-01, -9.84423641e-01,  6.41942357e-01,\n",
       "         2.61898544e-01],\n",
       "       [ 1.04635650e+00, -7.12388998e-01, -4.67315588e-01,\n",
       "         1.21918187e+00, -1.85011523e+00, -1.42323360e-01,\n",
       "        -2.70028171e-01, -9.93712962e-01,  1.45241606e+00,\n",
       "        -5.37741042e-01,  9.21522787e-01,  7.49575283e-01,\n",
       "        -4.52015284e-01,  1.04781713e+00,  1.79454186e+00,\n",
       "         8.90548445e-01,  5.37835693e-01, -1.79791150e+00,\n",
       "         1.43228327e+00, -1.34955582e+00, -1.28639846e+00,\n",
       "         1.23100827e+00, -3.38864197e-01, -1.27415828e-01,\n",
       "         3.52854080e-02, -5.04280236e-01, -6.81816014e-02,\n",
       "        -5.74919322e-01],\n",
       "       [ 2.85340786e-01,  5.92624389e-01,  5.70436386e-01,\n",
       "         5.64917833e-01,  1.93143542e-01, -1.49853084e+00,\n",
       "         1.49983056e+00, -1.13495825e+00, -7.23583072e-01,\n",
       "        -4.63826596e-01,  9.94516026e-01,  1.12662220e-01,\n",
       "         1.11752196e+00, -1.32372490e+00, -1.09433753e+00,\n",
       "        -1.04876071e-01,  5.61749711e-02, -7.64377813e-01,\n",
       "        -9.56631337e-03,  1.23383609e+00, -4.98690704e-01,\n",
       "        -2.27662007e+00,  9.94470551e-01,  1.18266982e+00,\n",
       "        -1.56677883e+00,  1.40645452e+00,  2.59873241e-01,\n",
       "         3.59292547e-01],\n",
       "       [-1.22800527e+00, -7.49981234e-01,  1.14378539e+00,\n",
       "        -1.68012010e-01, -1.34933836e+00,  2.75091478e-01,\n",
       "         6.23621522e-01,  7.60121908e-01, -1.73027379e+00,\n",
       "         6.04451430e-01, -3.26132550e-02,  3.35349244e-01,\n",
       "        -7.01115237e-01, -1.02411933e+00, -1.28929252e+00,\n",
       "         2.59330139e-01, -1.70937505e+00, -2.34435855e-01,\n",
       "         4.27561468e-01,  6.26813892e-02,  7.10036118e-01,\n",
       "         1.25357139e+00, -5.05497292e-01,  5.15256866e-01,\n",
       "        -1.52888514e+00,  1.04500593e+00, -7.87872541e-01,\n",
       "         1.13806772e+00],\n",
       "       [-1.22510168e-01, -3.93890449e-01,  6.03849436e-01,\n",
       "        -2.52749743e-02, -7.37672385e-02, -3.11842860e-01,\n",
       "        -1.39769089e-02, -3.33842128e-01, -1.46221701e+00,\n",
       "        -2.94437758e-01,  7.87575137e-01,  1.02781234e-01,\n",
       "         1.09737917e+00, -4.77419502e-01, -6.35673593e-01,\n",
       "         1.85935240e+00,  6.43429940e-01, -2.78470079e+00,\n",
       "        -1.53830339e-01, -1.10435637e+00,  2.14121922e-01,\n",
       "         1.01258672e+00,  4.80823956e-01,  4.19241444e-02,\n",
       "        -1.08981110e+00,  8.86761819e-01,  3.16749656e-02,\n",
       "        -1.61059642e-02],\n",
       "       [-1.31116086e+00,  1.23884572e+00,  3.77962952e-01,\n",
       "         2.38772146e-01,  3.98027758e-01,  4.03281405e-02,\n",
       "        -7.17008212e-01, -8.49587760e-01, -4.53550130e-01,\n",
       "         2.06693690e-01, -1.25320472e+00,  2.57837047e-01,\n",
       "        -1.92068099e+00,  1.34823363e-01,  1.45849879e+00,\n",
       "        -7.38708139e-01,  2.46292910e-01, -4.04854669e-01,\n",
       "         1.23712359e+00, -5.61373519e-01,  5.40511420e-02,\n",
       "         8.12993666e-01,  1.33859852e+00,  2.24867289e-02,\n",
       "        -5.39913860e-01,  9.53578297e-01,  1.54139549e-03,\n",
       "        -2.12359887e+00],\n",
       "       [-2.07343062e+00,  2.22758794e-01, -1.11294738e+00,\n",
       "        -1.41792908e-01,  1.45222476e+00,  6.14700330e-01,\n",
       "        -8.13476510e-01, -6.49661629e-01, -2.48269242e-01,\n",
       "         6.32521789e-01, -6.35920958e-01,  2.86462050e-01,\n",
       "         9.52550205e-01, -2.99112002e-01, -9.46819965e-01,\n",
       "        -1.47995842e+00, -7.32001981e-01, -5.96549359e-01,\n",
       "         7.08841129e-01,  8.27737258e-01, -1.12600258e+00,\n",
       "         7.57474798e-01,  2.08459968e+00,  8.04071277e-03,\n",
       "         2.79996479e-01, -3.40217849e-01,  5.34634224e-01,\n",
       "        -1.52437880e+00],\n",
       "       [ 9.95773529e-01,  6.22170697e-01,  5.58739481e-01,\n",
       "         5.28368552e-01,  8.76593252e-01, -2.50287218e-01,\n",
       "        -7.27192224e-01,  5.77536698e-01, -5.70837760e-01,\n",
       "        -2.30634137e-01,  7.19632577e-01, -1.70302461e+00,\n",
       "        -2.22330522e-01, -5.53307910e-02, -5.58810269e-01,\n",
       "        -1.57463399e+00, -6.23015771e-01, -1.94307476e+00,\n",
       "        -2.17851214e-01,  4.06971210e-02, -1.17034327e+00,\n",
       "         1.43682046e-01, -2.37015718e+00,  2.16626253e+00,\n",
       "        -1.61417042e-01,  1.14864562e+00, -5.74974087e-01,\n",
       "         2.02906699e+00],\n",
       "       [-1.51016459e-01,  1.57611676e+00,  8.82456663e-01,\n",
       "        -1.34161214e-02,  1.07843209e+00,  6.38744648e-01,\n",
       "        -2.78779705e-01,  1.04446566e+00,  1.06718832e-01,\n",
       "         6.54620449e-01, -1.03389775e+00, -4.95999163e-01,\n",
       "         7.48456095e-02,  9.26619637e-01, -4.92183141e-04,\n",
       "         6.22239670e-01,  2.25156241e+00, -5.61813513e-01,\n",
       "         1.79730326e+00,  1.34250835e-02, -2.79444892e+00,\n",
       "         1.11822055e+00,  2.54535347e-01,  3.36963080e-01,\n",
       "        -5.11026199e-02,  1.74911387e+00, -2.45501661e-01,\n",
       "        -4.98362338e-01],\n",
       "       [ 2.60805350e-01,  8.42742102e-01, -8.72202843e-01,\n",
       "        -6.17526013e-01,  7.89004419e-01,  7.34657824e-01,\n",
       "         2.28693660e+00, -4.07623931e-01,  1.23867937e-02,\n",
       "        -5.21167968e-01, -5.13873023e-02,  1.79174255e+00,\n",
       "        -2.47846916e-01, -1.49174621e+00,  6.78131226e-02,\n",
       "        -1.08335789e+00,  2.21373441e+00,  8.55864169e-01,\n",
       "         3.44953311e-01,  1.57071808e+00,  1.25694731e+00,\n",
       "         2.64462322e-01, -5.88381666e-01, -1.18602861e+00,\n",
       "        -1.16457967e+00, -1.39946258e-01, -7.91018686e-01,\n",
       "         9.29077157e-02],\n",
       "       [ 2.96606921e-01, -7.72675451e-01,  9.85654709e-01,\n",
       "         1.44228209e+00, -1.40119436e+00,  1.26324066e+00,\n",
       "         8.71905417e-01,  1.78403611e+00, -4.51537485e-01,\n",
       "        -4.65484803e-01,  1.41046597e+00, -6.91456308e-01,\n",
       "        -2.46840528e+00, -3.35028355e-01,  6.90975543e-02,\n",
       "        -7.35514533e-01, -1.37077484e+00, -2.05844000e+00,\n",
       "        -3.21210430e+00, -1.97113851e+00,  1.42270954e-01,\n",
       "        -4.95965179e-01,  2.63097064e-01,  1.47703593e+00,\n",
       "        -2.82867756e-01, -1.35033150e-01, -6.17318400e-01,\n",
       "        -1.88654271e-01],\n",
       "       [ 7.66984529e-02,  9.25782105e-01,  1.25448366e+00,\n",
       "         1.01422586e+00,  1.52459713e+00,  3.16724799e-01,\n",
       "         2.86759165e-01,  1.64739440e+00,  3.57119343e-01,\n",
       "        -7.86327682e-01, -2.24381322e+00, -4.55246616e-01,\n",
       "         6.86134708e-02,  9.99568137e-01,  9.06659712e-02,\n",
       "        -2.17246073e-01,  4.44950052e-01, -1.37076990e-01,\n",
       "         1.55629906e+00, -2.88128313e-01,  1.79841486e-01,\n",
       "        -8.29730897e-01, -7.22122927e-01, -5.18660882e-01,\n",
       "        -8.20581111e-01,  9.28807104e-01,  6.55340376e-01,\n",
       "         7.62933228e-01],\n",
       "       [ 7.83733656e-01, -3.49560858e-02, -6.75934451e-02,\n",
       "         1.65934349e-01, -2.19940168e+00, -1.13393847e+00,\n",
       "        -1.56394424e+00,  6.83529185e-02,  3.24052226e-02,\n",
       "         3.51449246e-01,  2.56954836e+00, -1.08255944e+00,\n",
       "        -1.10182476e-01, -1.85927297e-01,  6.31420981e-01,\n",
       "        -1.87321459e-01, -4.56062467e-01,  1.84134706e+00,\n",
       "        -8.34993761e-01, -6.63354347e-01,  6.91267789e-01,\n",
       "         1.28371407e+00, -1.43993934e+00, -1.44860355e+00,\n",
       "         7.05934297e-01, -9.49975434e-02, -1.32174526e+00,\n",
       "         8.28725158e-01]])"
      ]
     },
     "execution_count": 72,
     "metadata": {},
     "output_type": "execute_result"
    }
   ],
   "source": [
    "np.array(data)"
   ]
  },
  {
   "cell_type": "code",
   "execution_count": 76,
   "metadata": {},
   "outputs": [
    {
     "data": {
      "text/plain": [
       "(2, 28, 28)"
      ]
     },
     "execution_count": 76,
     "metadata": {},
     "output_type": "execute_result"
    }
   ],
   "source": [
    "x = x_train[1].reshape(28, 28)\n",
    "np.shape((x, data))"
   ]
  },
  {
   "cell_type": "code",
   "execution_count": 61,
   "metadata": {},
   "outputs": [
    {
     "data": {
      "image/png": "[encoded data removed]",
      "text/plain": [
       "<Figure size 432x288 with 1 Axes>"
      ]
     },
     "metadata": {
      "needs_background": "light"
     },
     "output_type": "display_data"
    }
   ],
   "source": [
    "\n",
    "plt.imshow(x_train[1].reshape(28, 28))\n",
    "plt.gray()\n",
    "plt.show()"
   ]
  },
  {
   "cell_type": "code",
   "execution_count": 12,
   "metadata": {},
   "outputs": [
    {
     "name": "stdout",
     "output_type": "stream",
     "text": [
      "Model: \"sequential_1\"\n",
      "_________________________________________________________________\n",
      "Layer (type)                 Output Shape              Param #   \n",
      "=================================================================\n",
      "conv2d_2 (Conv2D)            (None, 26, 26, 32)        320       \n",
      "_________________________________________________________________\n",
      "max_pooling2d_2 (MaxPooling2 (None, 13, 13, 32)        0         \n",
      "_________________________________________________________________\n",
      "conv2d_3 (Conv2D)            (None, 11, 11, 64)        18496     \n",
      "_________________________________________________________________\n",
      "max_pooling2d_3 (MaxPooling2 (None, 5, 5, 64)          0         \n",
      "_________________________________________________________________\n",
      "flatten_1 (Flatten)          (None, 1600)              0         \n",
      "_________________________________________________________________\n",
      "dropout_1 (Dropout)          (None, 1600)              0         \n",
      "_________________________________________________________________\n",
      "dense_1 (Dense)              (None, 10)                16010     \n",
      "=================================================================\n",
      "Total params: 34,826\n",
      "Trainable params: 34,826\n",
      "Non-trainable params: 0\n",
      "_________________________________________________________________\n"
     ]
    }
   ],
   "source": [
    "model = keras.Sequential(\n",
    "    [\n",
    "        keras.Input(shape=input_shape),\n",
    "        layers.Conv2D(32, kernel_size=(3, 3), activation=\"relu\"),\n",
    "        layers.MaxPooling2D(pool_size=(2, 2)),\n",
    "        layers.Conv2D(64, kernel_size=(3, 3), activation=\"relu\"),\n",
    "        layers.MaxPooling2D(pool_size=(2, 2)),\n",
    "        layers.Flatten(),\n",
    "        layers.Dropout(0.5),\n",
    "        layers.Dense(num_classes, activation=\"softmax\"),\n",
    "    ]\n",
    ")\n",
    "\n",
    "model.summary()"
   ]
  },
  {
   "cell_type": "code",
   "execution_count": 13,
   "metadata": {},
   "outputs": [
    {
     "name": "stdout",
     "output_type": "stream",
     "text": [
      "Epoch 1/2\n",
      "422/422 [==============================] - 17s 41ms/step - loss: 0.3493 - accuracy: 0.8941 - val_loss: 0.0828 - val_accuracy: 0.9783\n",
      "Epoch 2/2\n",
      "422/422 [==============================] - 17s 41ms/step - loss: 0.1128 - accuracy: 0.9664 - val_loss: 0.0585 - val_accuracy: 0.9840\n"
     ]
    },
    {
     "data": {
      "text/plain": [
       "<tensorflow.python.keras.callbacks.History at 0x1768b602708>"
      ]
     },
     "execution_count": 13,
     "metadata": {},
     "output_type": "execute_result"
    }
   ],
   "source": [
    "batch_size = 128\n",
    "epochs = 2\n",
    "\n",
    "model.compile(loss=\"categorical_crossentropy\", optimizer=\"adam\", metrics=[\"accuracy\"])\n",
    "\n",
    "model.fit(x_train, y_train, batch_size=batch_size, epochs=epochs, validation_split=0.1)"
   ]
  },
  {
   "cell_type": "code",
   "execution_count": 14,
   "metadata": {},
   "outputs": [
    {
     "name": "stdout",
     "output_type": "stream",
     "text": [
      "Test loss: 0.061778474599123\n",
      "Test accuracy: 0.9810000061988831\n"
     ]
    }
   ],
   "source": [
    "score = model.evaluate(x_test, y_test, verbose=0)\n",
    "print(\"Test loss:\", score[0])\n",
    "print(\"Test accuracy:\", score[1])"
   ]
  },
  {
   "cell_type": "code",
   "execution_count": 15,
   "metadata": {},
   "outputs": [],
   "source": [
    "from sklearn.linear_model import LinearRegression\n",
    "from sklearn.metrics import r2_score\n",
    "from sklearn.pipeline import FeatureUnion\n",
    "from sklearn.preprocessing import StandardScaler, MinMaxScaler\n",
    "from sklearn.base import BaseEstimator, TransformerMixin\n",
    "from sklearn.pipeline import Pipeline, make_pipeline\n",
    "from sklearn.ensemble import RandomForestClassifier, GradientBoostingClassifier\n",
    "from sklearn.linear_model import LogisticRegression\n",
    "from sklearn.model_selection import cross_val_score, train_test_split\n",
    "from sklearn.metrics import f1_score, roc_auc_score, precision_score, recall_score, classification_report, precision_recall_curve, confusion_matrix"
   ]
  },
  {
   "cell_type": "code",
   "execution_count": 16,
   "metadata": {},
   "outputs": [
    {
     "ename": "NameError",
     "evalue": "name 'df' is not defined",
     "output_type": "error",
     "traceback": [
      "\u001b[1;31m---------------------------------------------------------------------------\u001b[0m",
      "\u001b[1;31mNameError\u001b[0m                                 Traceback (most recent call last)",
      "\u001b[1;32m<ipython-input-16-49a8be740e55>\u001b[0m in \u001b[0;36m<module>\u001b[1;34m\u001b[0m\n\u001b[0;32m      1\u001b[0m \u001b[1;31m# X_train, X_test, y_train, y_test = train_test_split(df.drop(['0'], 1), df['0'], random_state=0)\u001b[0m\u001b[1;33m\u001b[0m\u001b[1;33m\u001b[0m\u001b[1;33m\u001b[0m\u001b[0m\n\u001b[1;32m----> 2\u001b[1;33m \u001b[0mX_train\u001b[0m\u001b[1;33m,\u001b[0m \u001b[0mX_test\u001b[0m\u001b[1;33m,\u001b[0m \u001b[0my_train\u001b[0m\u001b[1;33m,\u001b[0m \u001b[0my_test\u001b[0m \u001b[1;33m=\u001b[0m \u001b[0mtrain_test_split\u001b[0m\u001b[1;33m(\u001b[0m\u001b[0mdf\u001b[0m\u001b[1;33m.\u001b[0m\u001b[0mdrop\u001b[0m\u001b[1;33m(\u001b[0m\u001b[1;33m[\u001b[0m\u001b[1;34m'vix'\u001b[0m\u001b[1;33m]\u001b[0m\u001b[1;33m,\u001b[0m \u001b[1;36m1\u001b[0m\u001b[1;33m)\u001b[0m\u001b[1;33m,\u001b[0m \u001b[0mdf\u001b[0m\u001b[1;33m[\u001b[0m\u001b[1;34m'vix'\u001b[0m\u001b[1;33m]\u001b[0m\u001b[1;33m,\u001b[0m \u001b[0mrandom_state\u001b[0m\u001b[1;33m=\u001b[0m\u001b[1;36m0\u001b[0m\u001b[1;33m)\u001b[0m\u001b[1;33m\u001b[0m\u001b[1;33m\u001b[0m\u001b[0m\n\u001b[0m",
      "\u001b[1;31mNameError\u001b[0m: name 'df' is not defined"
     ]
    }
   ],
   "source": [
    "# X_train, X_test, y_train, y_test = train_test_split(df.drop(['0'], 1), df['0'], random_state=0)\n",
    "X_train, X_test, y_train, y_test = train_test_split(df.drop(['vix'], 1), df['vix'], random_state=0)"
   ]
  },
  {
   "cell_type": "code",
   "execution_count": null,
   "metadata": {},
   "outputs": [],
   "source": [
    "lr = LinearRegression()\n",
    "lr.fit(X_train, y_train)\n",
    "y_pr = lr.predict(X_test)\n",
    "print(r2_score(y_test, y_pr))"
   ]
  },
  {
   "cell_type": "code",
   "execution_count": null,
   "metadata": {},
   "outputs": [],
   "source": [
    "# with open('rf.dill', 'wb') as in_strm:\n",
    "#     in_strm.write(dill.dumps(pipeline))"
   ]
  },
  {
   "cell_type": "code",
   "execution_count": null,
   "metadata": {},
   "outputs": [],
   "source": [
    "# rf = RandomForestClassifier()\n",
    "# rf.fit(X_train, y_train)\n",
    "# preds = rf.predict_proba(X_test)[:, 1]\n",
    "\n",
    "# precision, recall, thresholds = precision_recall_curve(y_test, preds)\n",
    "\n",
    "# fscore = (2 * precision/50 * recall) / (precision/50 + recall)\n",
    "# # locate the index of the largest f score\n",
    "# ix = np.argmax(fscore)\n",
    "# print('Best Threshold=%.3f, F-Score=%.3f, Precision=%.3f, Recall=%.3f' % (thresholds[ix], \n",
    "#                                                                         fscore[ix],\n",
    "#                                                                         precision[ix],\n",
    "#                                                                         recall[ix]))"
   ]
  },
  {
   "cell_type": "code",
   "execution_count": null,
   "metadata": {},
   "outputs": [],
   "source": [
    "y_test.value_counts(normalize=True)"
   ]
  },
  {
   "cell_type": "code",
   "execution_count": null,
   "metadata": {},
   "outputs": [],
   "source": [
    "preds = rf.predict_proba(df.drop(['0'], 1))[:, 1]\n",
    "preds"
   ]
  },
  {
   "cell_type": "code",
   "execution_count": null,
   "metadata": {},
   "outputs": [],
   "source": [
    "len(preds)"
   ]
  },
  {
   "cell_type": "code",
   "execution_count": null,
   "metadata": {},
   "outputs": [],
   "source": [
    "import matplotlib.pyplot as plt\n",
    "\n",
    "fig, ax = plt.subplots()\n",
    "fig.set_size_inches(18, 5)\n",
    "lns1 = ax.plot(preds[:1500])\n",
    "ax2 = ax.twinx()\n",
    "lns2 = ax2.plot(df['1'][:1500], linewidth=3, c='g', label='y')\n",
    "lns = lns1+lns2\n",
    "plt.show()"
   ]
  },
  {
   "cell_type": "code",
   "execution_count": null,
   "metadata": {},
   "outputs": [],
   "source": [
    "plt.figure(figsize=(7,7))\n",
    "plt.scatter(df['1'], preds, s=2)\n",
    "plt.title('Диаграмма рассеяния')\n",
    "plt.xlabel('S&P 500')\n",
    "# plt.ylabel('казначейские облигации')\n",
    "plt.show()\n",
    "df['1'].corr(pd.Series(preds))\n"
   ]
  }
 ],
 "metadata": {
  "kernelspec": {
   "display_name": "Python 3",
   "language": "python",
   "name": "python3"
  },
  "language_info": {
   "codemirror_mode": {
    "name": "ipython",
    "version": 3
   },
   "file_extension": ".py",
   "mimetype": "text/x-python",
   "name": "python",
   "nbconvert_exporter": "python",
   "pygments_lexer": "ipython3",
   "version": "3.7.8"
  }
 },
 "nbformat": 4,
 "nbformat_minor": 4
}
