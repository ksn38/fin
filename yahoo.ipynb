{
 "cells": [
  {
   "cell_type": "code",
   "execution_count": 15,
   "metadata": {},
   "outputs": [],
   "source": [
    "import pandas as pd\n",
    "import numpy as np\n",
    "import requests\n",
    "import json\n",
    "import pprint\n",
    "from datetime import date\n",
    "from datetime import timedelta\n",
    "from collections import OrderedDict\n",
    "from bs4 import BeautifulSoup as bs\n",
    "import time\n",
    "from yahoo_fin.stock_info import tickers_sp500, get_data, get_splits\n",
    "from os import listdir\n",
    "from os.path import isfile, join\n",
    "import re"
   ]
  },
  {
   "cell_type": "code",
   "execution_count": 16,
   "metadata": {},
   "outputs": [
    {
     "data": {
      "text/html": [
       "<div>\n",
       "<style scoped>\n",
       "    .dataframe tbody tr th:only-of-type {\n",
       "        vertical-align: middle;\n",
       "    }\n",
       "\n",
       "    .dataframe tbody tr th {\n",
       "        vertical-align: top;\n",
       "    }\n",
       "\n",
       "    .dataframe thead th {\n",
       "        text-align: right;\n",
       "    }\n",
       "</style>\n",
       "<table border=\"1\" class=\"dataframe\">\n",
       "  <thead>\n",
       "    <tr style=\"text-align: right;\">\n",
       "      <th></th>\n",
       "      <th>Date</th>\n",
       "    </tr>\n",
       "  </thead>\n",
       "  <tbody>\n",
       "    <tr>\n",
       "      <th>0</th>\n",
       "      <td>2005-01-03</td>\n",
       "    </tr>\n",
       "    <tr>\n",
       "      <th>1</th>\n",
       "      <td>2005-01-04</td>\n",
       "    </tr>\n",
       "    <tr>\n",
       "      <th>2</th>\n",
       "      <td>2005-01-05</td>\n",
       "    </tr>\n",
       "    <tr>\n",
       "      <th>3</th>\n",
       "      <td>2005-01-06</td>\n",
       "    </tr>\n",
       "    <tr>\n",
       "      <th>4</th>\n",
       "      <td>2005-01-07</td>\n",
       "    </tr>\n",
       "  </tbody>\n",
       "</table>\n",
       "</div>"
      ],
      "text/plain": [
       "         Date\n",
       "0  2005-01-03\n",
       "1  2005-01-04\n",
       "2  2005-01-05\n",
       "3  2005-01-06\n",
       "4  2005-01-07"
      ]
     },
     "execution_count": 16,
     "metadata": {},
     "output_type": "execute_result"
    }
   ],
   "source": [
    "list_tickers = tickers_sp500()\n",
    "df = pd.read_csv('C:\\\\Users\\\\ksn\\\\fin\\\\sp500\\\\A.csv', usecols=['Date'])\n",
    "df.head()"
   ]
  },
  {
   "cell_type": "code",
   "execution_count": 17,
   "metadata": {},
   "outputs": [],
   "source": [
    "mypath = 'C:\\\\Users\\\\ksn\\\\fin\\\\sp500\\\\'\n",
    "files = [i for i in listdir(mypath) if isfile(join(mypath, i))]\n",
    "\n",
    "for i in files:\n",
    "    df2 = pd.read_csv(mypath + i, usecols=['Date', 'Close'])\n",
    "    i = re.sub('\\.csv', '', i)\n",
    "    df2.columns = ['Date', i]\n",
    "    df = pd.merge(df, df2, how='left', on='Date')\n",
    "    \n",
    "df.to_csv('all.csv', index=False)\n",
    "    "
   ]
  },
  {
   "cell_type": "code",
   "execution_count": null,
   "metadata": {},
   "outputs": [],
   "source": []
  },
  {
   "cell_type": "code",
   "execution_count": null,
   "metadata": {},
   "outputs": [],
   "source": []
  },
  {
   "cell_type": "code",
   "execution_count": 1,
   "metadata": {},
   "outputs": [],
   "source": [
    "# dict_tickers = {}\n",
    "\n",
    "# for i in list_tickers:\n",
    "#     print(i)\n",
    "#     if i not in {'BF.B', 'HWM', 'LUMN'}:\n",
    "#         try:\n",
    "#             ticker_old = get_data(str(i), start_date=\"20/11/2015\", end_date=\"25/11/2015\", index_as_date = True, interval=\"1d\")\n",
    "#             # print(ticker_old.close[-1])\n",
    "#             ticker_now = get_data(str(i), start_date=\"23/12/2020\", end_date=\"28/12/2020\", index_as_date=True, interval=\"1d\")\n",
    "#             # print(ticker_now.close[-1])\n",
    "#             dict_tickers[ticker_now.ticker[-1]] = round((ticker_now.close[-1]/ticker_old.close[-1] - 1)*100, 2)\n",
    "#             print(dict_tickers[ticker_now.ticker[-1]])\n",
    "#         except AssertionError:\n",
    "#             pass"
   ]
  },
  {
   "cell_type": "code",
   "execution_count": 2,
   "metadata": {},
   "outputs": [],
   "source": [
    "# dict_tickers = sorted(dict_tickers.items(), key=lambda item: item[1], reverse=True)\n",
    "# dict_tickers"
   ]
  },
  {
   "cell_type": "code",
   "execution_count": 7,
   "metadata": {},
   "outputs": [
    {
     "data": {
      "text/html": [
       "<div>\n",
       "<style scoped>\n",
       "    .dataframe tbody tr th:only-of-type {\n",
       "        vertical-align: middle;\n",
       "    }\n",
       "\n",
       "    .dataframe tbody tr th {\n",
       "        vertical-align: top;\n",
       "    }\n",
       "\n",
       "    .dataframe thead th {\n",
       "        text-align: right;\n",
       "    }\n",
       "</style>\n",
       "<table border=\"1\" class=\"dataframe\">\n",
       "  <thead>\n",
       "    <tr style=\"text-align: right;\">\n",
       "      <th></th>\n",
       "      <th>splitRatio</th>\n",
       "      <th>ticker</th>\n",
       "    </tr>\n",
       "  </thead>\n",
       "  <tbody>\n",
       "    <tr>\n",
       "      <th>1987-09-21</th>\n",
       "      <td>2:1</td>\n",
       "      <td>MSFT</td>\n",
       "    </tr>\n",
       "    <tr>\n",
       "      <th>1990-04-16</th>\n",
       "      <td>2:1</td>\n",
       "      <td>MSFT</td>\n",
       "    </tr>\n",
       "    <tr>\n",
       "      <th>1991-06-27</th>\n",
       "      <td>3:2</td>\n",
       "      <td>MSFT</td>\n",
       "    </tr>\n",
       "    <tr>\n",
       "      <th>1992-06-15</th>\n",
       "      <td>3:2</td>\n",
       "      <td>MSFT</td>\n",
       "    </tr>\n",
       "    <tr>\n",
       "      <th>1994-05-23</th>\n",
       "      <td>2:1</td>\n",
       "      <td>MSFT</td>\n",
       "    </tr>\n",
       "    <tr>\n",
       "      <th>1996-12-09</th>\n",
       "      <td>2:1</td>\n",
       "      <td>MSFT</td>\n",
       "    </tr>\n",
       "    <tr>\n",
       "      <th>1998-02-23</th>\n",
       "      <td>2:1</td>\n",
       "      <td>MSFT</td>\n",
       "    </tr>\n",
       "    <tr>\n",
       "      <th>1999-03-29</th>\n",
       "      <td>2:1</td>\n",
       "      <td>MSFT</td>\n",
       "    </tr>\n",
       "    <tr>\n",
       "      <th>2003-02-18</th>\n",
       "      <td>2:1</td>\n",
       "      <td>MSFT</td>\n",
       "    </tr>\n",
       "  </tbody>\n",
       "</table>\n",
       "</div>"
      ],
      "text/plain": [
       "           splitRatio ticker\n",
       "1987-09-21        2:1   MSFT\n",
       "1990-04-16        2:1   MSFT\n",
       "1991-06-27        3:2   MSFT\n",
       "1992-06-15        3:2   MSFT\n",
       "1994-05-23        2:1   MSFT\n",
       "1996-12-09        2:1   MSFT\n",
       "1998-02-23        2:1   MSFT\n",
       "1999-03-29        2:1   MSFT\n",
       "2003-02-18        2:1   MSFT"
      ]
     },
     "execution_count": 7,
     "metadata": {},
     "output_type": "execute_result"
    }
   ],
   "source": [
    "get_splits(\"msft\")"
   ]
  }
 ],
 "metadata": {
  "kernelspec": {
   "display_name": "Python 3",
   "language": "python",
   "name": "python3"
  },
  "language_info": {
   "codemirror_mode": {
    "name": "ipython",
    "version": 3
   },
   "file_extension": ".py",
   "mimetype": "text/x-python",
   "name": "python",
   "nbconvert_exporter": "python",
   "pygments_lexer": "ipython3",
   "version": "3.7.8"
  }
 },
 "nbformat": 4,
 "nbformat_minor": 4
}
