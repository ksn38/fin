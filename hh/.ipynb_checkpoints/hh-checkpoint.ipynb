{
 "cells": [
  {
   "cell_type": "code",
   "execution_count": 7,
   "metadata": {},
   "outputs": [],
   "source": [
    "import pandas as pd\n",
    "import numpy as np\n",
    "from os import listdir\n",
    "from os.path import isfile, join"
   ]
  },
  {
   "cell_type": "code",
   "execution_count": 8,
   "metadata": {},
   "outputs": [
    {
     "name": "stdout",
     "output_type": "stream",
     "text": [
      "['js101020.csv', 'js200720.csv']\n"
     ]
    }
   ],
   "source": [
    "mypath = 'C:\\\\Users\\\\ksn\\\\fin\\\\hh\\\\raw\\\\'\n",
    "files = [i for i in listdir(mypath) if isfile(join(mypath, i))]\n",
    "print(files)"
   ]
  },
  {
   "cell_type": "code",
   "execution_count": 9,
   "metadata": {},
   "outputs": [
    {
     "name": "stdout",
     "output_type": "stream",
     "text": [
      "js101020.csv\n",
      "                          tag   val\n",
      "0                  JavaScript  1487\n",
      "1                         CSS   702\n",
      "2                         Git   680\n",
      "3                        HTML   592\n",
      "4                       HTML5   498\n",
      "..                        ...   ...\n",
      "812              Turbo Pascal     1\n",
      "813                  Selenium     1\n",
      "814  Adobe Experience Manager     1\n",
      "815             MS PowerPoint     1\n",
      "816                       es5     1\n",
      "\n",
      "[817 rows x 2 columns]\n",
      "js200720.csv\n",
      "             tag  val\n",
      "0     JavaScript  662\n",
      "1            CSS  454\n",
      "2            Git  449\n",
      "3           HTML  414\n",
      "4          HTML5  312\n",
      "...          ...  ...\n",
      "2145    TFSPLSQL    1\n",
      "2146       HLSC#    1\n",
      "2147       Agile    1\n",
      "2148   Gitlab CI    1\n",
      "2149      YiiGit    1\n",
      "\n",
      "[2150 rows x 2 columns]\n"
     ]
    }
   ],
   "source": [
    "for i in files:\n",
    "    print(i)\n",
    "    df = pd.read_csv(mypath + i)\n",
    "    df.columns = ['tag', 'val']\n",
    "    print(df)\n",
    "    df.to_csv(i, index=False, sep=';')"
   ]
  }
 ],
 "metadata": {
  "kernelspec": {
   "display_name": "Python 3",
   "language": "python",
   "name": "python3"
  },
  "language_info": {
   "codemirror_mode": {
    "name": "ipython",
    "version": 3
   },
   "file_extension": ".py",
   "mimetype": "text/x-python",
   "name": "python",
   "nbconvert_exporter": "python",
   "pygments_lexer": "ipython3",
   "version": "3.7.8"
  }
 },
 "nbformat": 4,
 "nbformat_minor": 4
}
