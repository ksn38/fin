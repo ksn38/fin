{
 "cells": [
  {
   "cell_type": "code",
   "execution_count": 144,
   "metadata": {},
   "outputs": [],
   "source": [
    "import pandas as pd\n",
    "import numpy as np\n",
    "import matplotlib.pyplot as plt\n",
    "import matplotlib.dates as mdates\n",
    "from scipy import stats"
   ]
  },
  {
   "cell_type": "code",
   "execution_count": 145,
   "metadata": {},
   "outputs": [
    {
     "data": {
      "text/html": [
       "<div>\n",
       "<style scoped>\n",
       "    .dataframe tbody tr th:only-of-type {\n",
       "        vertical-align: middle;\n",
       "    }\n",
       "\n",
       "    .dataframe tbody tr th {\n",
       "        vertical-align: top;\n",
       "    }\n",
       "\n",
       "    .dataframe thead th {\n",
       "        text-align: right;\n",
       "    }\n",
       "</style>\n",
       "<table border=\"1\" class=\"dataframe\">\n",
       "  <thead>\n",
       "    <tr style=\"text-align: right;\">\n",
       "      <th></th>\n",
       "      <th>Date</th>\n",
       "      <th>Open</th>\n",
       "      <th>High</th>\n",
       "      <th>Low</th>\n",
       "      <th>Close</th>\n",
       "      <th>Adj Close</th>\n",
       "      <th>Volume</th>\n",
       "    </tr>\n",
       "  </thead>\n",
       "  <tbody>\n",
       "    <tr>\n",
       "      <td>23278</td>\n",
       "      <td>2020-09-02</td>\n",
       "      <td>3543.760010</td>\n",
       "      <td>3588.110107</td>\n",
       "      <td>3535.229980</td>\n",
       "      <td>3580.840088</td>\n",
       "      <td>3580.840088</td>\n",
       "      <td>4285190000</td>\n",
       "    </tr>\n",
       "    <tr>\n",
       "      <td>23279</td>\n",
       "      <td>2020-09-03</td>\n",
       "      <td>3564.739990</td>\n",
       "      <td>3564.850098</td>\n",
       "      <td>3427.409912</td>\n",
       "      <td>3455.060059</td>\n",
       "      <td>3455.060059</td>\n",
       "      <td>4898680000</td>\n",
       "    </tr>\n",
       "    <tr>\n",
       "      <td>23280</td>\n",
       "      <td>2020-09-04</td>\n",
       "      <td>3453.600098</td>\n",
       "      <td>3479.149902</td>\n",
       "      <td>3349.629883</td>\n",
       "      <td>3426.959961</td>\n",
       "      <td>3426.959961</td>\n",
       "      <td>4431440000</td>\n",
       "    </tr>\n",
       "    <tr>\n",
       "      <td>23281</td>\n",
       "      <td>2020-09-08</td>\n",
       "      <td>3371.879883</td>\n",
       "      <td>3379.969971</td>\n",
       "      <td>3329.270020</td>\n",
       "      <td>3331.840088</td>\n",
       "      <td>3331.840088</td>\n",
       "      <td>4665600000</td>\n",
       "    </tr>\n",
       "    <tr>\n",
       "      <td>23282</td>\n",
       "      <td>2020-09-09</td>\n",
       "      <td>3369.820068</td>\n",
       "      <td>3424.770020</td>\n",
       "      <td>3366.840088</td>\n",
       "      <td>3398.959961</td>\n",
       "      <td>3398.959961</td>\n",
       "      <td>3920830000</td>\n",
       "    </tr>\n",
       "  </tbody>\n",
       "</table>\n",
       "</div>"
      ],
      "text/plain": [
       "             Date         Open         High          Low        Close  \\\n",
       "23278  2020-09-02  3543.760010  3588.110107  3535.229980  3580.840088   \n",
       "23279  2020-09-03  3564.739990  3564.850098  3427.409912  3455.060059   \n",
       "23280  2020-09-04  3453.600098  3479.149902  3349.629883  3426.959961   \n",
       "23281  2020-09-08  3371.879883  3379.969971  3329.270020  3331.840088   \n",
       "23282  2020-09-09  3369.820068  3424.770020  3366.840088  3398.959961   \n",
       "\n",
       "         Adj Close      Volume  \n",
       "23278  3580.840088  4285190000  \n",
       "23279  3455.060059  4898680000  \n",
       "23280  3426.959961  4431440000  \n",
       "23281  3331.840088  4665600000  \n",
       "23282  3398.959961  3920830000  "
      ]
     },
     "execution_count": 145,
     "metadata": {},
     "output_type": "execute_result"
    }
   ],
   "source": [
    "SP = pd.read_csv('data/SnP500.csv').dropna()\n",
    "SP.tail()"
   ]
  },
  {
   "cell_type": "code",
   "execution_count": 146,
   "metadata": {},
   "outputs": [],
   "source": [
    "# SP.rename(columns={'GOLDAMGBD228NLBM': 'Close'}, inplace=True)\n",
    "# SP.Close = SP.Close.apply(pd.to_numeric, errors='coerce')\n",
    "# SP.Close = SP.Close.fillna(method='ffill')"
   ]
  },
  {
   "cell_type": "code",
   "execution_count": 147,
   "metadata": {},
   "outputs": [
    {
     "name": "stdout",
     "output_type": "stream",
     "text": [
      "<class 'pandas.core.frame.DataFrame'>\n",
      "Int64Index: 23283 entries, 0 to 23282\n",
      "Data columns (total 7 columns):\n",
      "Date         23283 non-null object\n",
      "Open         23283 non-null float64\n",
      "High         23283 non-null float64\n",
      "Low          23283 non-null float64\n",
      "Close        23283 non-null float64\n",
      "Adj Close    23283 non-null float64\n",
      "Volume       23283 non-null int64\n",
      "dtypes: float64(5), int64(1), object(1)\n",
      "memory usage: 1.3+ MB\n"
     ]
    }
   ],
   "source": [
    "SP.info()"
   ]
  },
  {
   "cell_type": "code",
   "execution_count": 148,
   "metadata": {},
   "outputs": [
    {
     "name": "stdout",
     "output_type": "stream",
     "text": [
      "[1, 2, 3, 5, 8, 13, 21, 34, 55, 89, 144, 233, 377, 610, 987, 1597, 2584]\n"
     ]
    }
   ],
   "source": [
    "i = 1\n",
    "f = [1, 2]\n",
    "\n",
    "for i in range(15):\n",
    "    i = f[-1] + f[-2]\n",
    "    f.append(i)\n",
    "    \n",
    "print(f)"
   ]
  },
  {
   "cell_type": "code",
   "execution_count": 149,
   "metadata": {},
   "outputs": [],
   "source": [
    "df = []\n",
    "\n",
    "#с конца всего датасета\n",
    "for i in range(5000):\n",
    "    period_pred = 30\n",
    "    chnd = (SP.Close.iloc[-2 - i - period_pred]/SP.Close.iloc[-1 - i] - 1)*100\n",
    "    row = []\n",
    "    if chnd < -10:\n",
    "        row.append(1)\n",
    "    else:\n",
    "        row.append(0)\n",
    "    for j in (2, 3, 5, 8, 13, 21, 34, 55, 89, 144, 233, 377, 610):\n",
    "        row.append(SP.Close.iloc[-j - i - period_pred])\n",
    "    df.append(row)\n",
    "\n"
   ]
  },
  {
   "cell_type": "code",
   "execution_count": 150,
   "metadata": {},
   "outputs": [
    {
     "data": {
      "text/html": [
       "<div>\n",
       "<style scoped>\n",
       "    .dataframe tbody tr th:only-of-type {\n",
       "        vertical-align: middle;\n",
       "    }\n",
       "\n",
       "    .dataframe tbody tr th {\n",
       "        vertical-align: top;\n",
       "    }\n",
       "\n",
       "    .dataframe thead th {\n",
       "        text-align: right;\n",
       "    }\n",
       "</style>\n",
       "<table border=\"1\" class=\"dataframe\">\n",
       "  <thead>\n",
       "    <tr style=\"text-align: right;\">\n",
       "      <th></th>\n",
       "      <th>0</th>\n",
       "      <th>1</th>\n",
       "      <th>2</th>\n",
       "      <th>3</th>\n",
       "      <th>4</th>\n",
       "      <th>5</th>\n",
       "      <th>6</th>\n",
       "      <th>7</th>\n",
       "      <th>8</th>\n",
       "      <th>9</th>\n",
       "      <th>10</th>\n",
       "      <th>11</th>\n",
       "      <th>12</th>\n",
       "      <th>13</th>\n",
       "    </tr>\n",
       "  </thead>\n",
       "  <tbody>\n",
       "    <tr>\n",
       "      <td>4995</td>\n",
       "      <td>0</td>\n",
       "      <td>1465.810059</td>\n",
       "      <td>1480.869995</td>\n",
       "      <td>1481.98999</td>\n",
       "      <td>1502.510010</td>\n",
       "      <td>1502.589966</td>\n",
       "      <td>1491.719971</td>\n",
       "      <td>1438.099976</td>\n",
       "      <td>1454.599976</td>\n",
       "      <td>1420.959961</td>\n",
       "      <td>1353.430054</td>\n",
       "      <td>1254.130005</td>\n",
       "      <td>1268.589966</td>\n",
       "      <td>1126.670044</td>\n",
       "    </tr>\n",
       "    <tr>\n",
       "      <td>4996</td>\n",
       "      <td>0</td>\n",
       "      <td>1480.869995</td>\n",
       "      <td>1484.910034</td>\n",
       "      <td>1489.26001</td>\n",
       "      <td>1492.250000</td>\n",
       "      <td>1509.839966</td>\n",
       "      <td>1496.069946</td>\n",
       "      <td>1430.829956</td>\n",
       "      <td>1442.390015</td>\n",
       "      <td>1407.810059</td>\n",
       "      <td>1360.689941</td>\n",
       "      <td>1247.410034</td>\n",
       "      <td>1262.140015</td>\n",
       "      <td>1123.650024</td>\n",
       "    </tr>\n",
       "    <tr>\n",
       "      <td>4997</td>\n",
       "      <td>0</td>\n",
       "      <td>1484.910034</td>\n",
       "      <td>1481.989990</td>\n",
       "      <td>1494.50000</td>\n",
       "      <td>1507.079956</td>\n",
       "      <td>1514.089966</td>\n",
       "      <td>1479.849976</td>\n",
       "      <td>1419.890015</td>\n",
       "      <td>1454.819946</td>\n",
       "      <td>1383.050049</td>\n",
       "      <td>1352.170044</td>\n",
       "      <td>1283.420044</td>\n",
       "      <td>1297.010010</td>\n",
       "      <td>1122.719971</td>\n",
       "    </tr>\n",
       "    <tr>\n",
       "      <td>4998</td>\n",
       "      <td>0</td>\n",
       "      <td>1481.989990</td>\n",
       "      <td>1489.260010</td>\n",
       "      <td>1502.51001</td>\n",
       "      <td>1520.770020</td>\n",
       "      <td>1506.449951</td>\n",
       "      <td>1484.430054</td>\n",
       "      <td>1449.619995</td>\n",
       "      <td>1450.550049</td>\n",
       "      <td>1412.140015</td>\n",
       "      <td>1346.089966</td>\n",
       "      <td>1285.550049</td>\n",
       "      <td>1299.290039</td>\n",
       "      <td>1108.170044</td>\n",
       "    </tr>\n",
       "    <tr>\n",
       "      <td>4999</td>\n",
       "      <td>0</td>\n",
       "      <td>1489.260010</td>\n",
       "      <td>1494.500000</td>\n",
       "      <td>1492.25000</td>\n",
       "      <td>1517.680054</td>\n",
       "      <td>1508.310059</td>\n",
       "      <td>1491.560059</td>\n",
       "      <td>1452.420044</td>\n",
       "      <td>1455.310059</td>\n",
       "      <td>1424.170044</td>\n",
       "      <td>1388.260010</td>\n",
       "      <td>1313.040039</td>\n",
       "      <td>1316.550049</td>\n",
       "      <td>1119.319946</td>\n",
       "    </tr>\n",
       "  </tbody>\n",
       "</table>\n",
       "</div>"
      ],
      "text/plain": [
       "      0            1            2           3            4            5  \\\n",
       "4995  0  1465.810059  1480.869995  1481.98999  1502.510010  1502.589966   \n",
       "4996  0  1480.869995  1484.910034  1489.26001  1492.250000  1509.839966   \n",
       "4997  0  1484.910034  1481.989990  1494.50000  1507.079956  1514.089966   \n",
       "4998  0  1481.989990  1489.260010  1502.51001  1520.770020  1506.449951   \n",
       "4999  0  1489.260010  1494.500000  1492.25000  1517.680054  1508.310059   \n",
       "\n",
       "                6            7            8            9           10  \\\n",
       "4995  1491.719971  1438.099976  1454.599976  1420.959961  1353.430054   \n",
       "4996  1496.069946  1430.829956  1442.390015  1407.810059  1360.689941   \n",
       "4997  1479.849976  1419.890015  1454.819946  1383.050049  1352.170044   \n",
       "4998  1484.430054  1449.619995  1450.550049  1412.140015  1346.089966   \n",
       "4999  1491.560059  1452.420044  1455.310059  1424.170044  1388.260010   \n",
       "\n",
       "               11           12           13  \n",
       "4995  1254.130005  1268.589966  1126.670044  \n",
       "4996  1247.410034  1262.140015  1123.650024  \n",
       "4997  1283.420044  1297.010010  1122.719971  \n",
       "4998  1285.550049  1299.290039  1108.170044  \n",
       "4999  1313.040039  1316.550049  1119.319946  "
      ]
     },
     "execution_count": 150,
     "metadata": {},
     "output_type": "execute_result"
    }
   ],
   "source": [
    "df = pd.DataFrame(df)\n",
    "df.columns = ['0', '1', '2', '3', '4', '5', '6', '7', '8', '9', '10', '11', '12', '13']\n",
    "df.tail()"
   ]
  },
  {
   "cell_type": "code",
   "execution_count": 153,
   "metadata": {},
   "outputs": [],
   "source": [
    "from sklearn.pipeline import FeatureUnion\n",
    "from sklearn.preprocessing import StandardScaler\n",
    "from sklearn.base import BaseEstimator, TransformerMixin\n",
    "from sklearn.pipeline import Pipeline, make_pipeline\n",
    "from sklearn.ensemble import RandomForestClassifier, GradientBoostingClassifier\n",
    "from sklearn.linear_model import LogisticRegression\n",
    "from sklearn.model_selection import cross_val_score, train_test_split\n",
    "from sklearn.metrics import f1_score, roc_auc_score, precision_score, recall_score, classification_report, precision_recall_curve, confusion_matrix"
   ]
  },
  {
   "cell_type": "code",
   "execution_count": 154,
   "metadata": {},
   "outputs": [],
   "source": [
    "X_train, X_test, y_train, y_test = train_test_split(df.drop(['0'], 1), df['0'], random_state=0)"
   ]
  },
  {
   "cell_type": "code",
   "execution_count": 155,
   "metadata": {},
   "outputs": [],
   "source": [
    "class NumberSelector(BaseEstimator, TransformerMixin):\n",
    "    \"\"\"\n",
    "    Transformer to select a single column from the data frame to perform additional transformations on\n",
    "    Use on numeric columns in the data\n",
    "    \"\"\"\n",
    "    def __init__(self, key):\n",
    "        self.key = key\n",
    "\n",
    "    def fit(self, X, y=None):\n",
    "        return self\n",
    "\n",
    "    def transform(self, X):\n",
    "        return X[[self.key]]\n",
    "    \n",
    "\n",
    "continuous_columns = ['1', '2', '3', '4', '5', '6', '7', '8', '9', '10', '11', '12', '13']\n",
    "\n",
    "final_transformers = list()\n",
    "    \n",
    "for cont_col in continuous_columns:\n",
    "    cont_transformer = Pipeline([\n",
    "                ('selector', NumberSelector(key=cont_col)),\n",
    "                ('standard', StandardScaler())\n",
    "            ])\n",
    "    final_transformers.append((cont_col, cont_transformer))\n",
    "\n",
    "feats = FeatureUnion(final_transformers)\n",
    "feature_processing = Pipeline([('feats', feats)])\n",
    "\n",
    "pipeline = Pipeline([\n",
    "    ('features',feats),\n",
    "    ('classifier', GradientBoostingClassifier(random_state = 42)),\n",
    "])\n",
    "\n",
    "pipeline.fit(X_train, y_train)\n",
    "preds = pipeline.predict_proba(X_test)[:, 1]"
   ]
  },
  {
   "cell_type": "code",
   "execution_count": 156,
   "metadata": {},
   "outputs": [
    {
     "name": "stdout",
     "output_type": "stream",
     "text": [
      "Best Threshold=0.753, F-Score=0.743, Precision=0.765, Recall=0.722\n",
      "Best Threshold=0.983, F-Score=0.037, Precision=1.000, Recall=0.278\n",
      "0.9925369769119768\n"
     ]
    }
   ],
   "source": [
    "# rf = RandomForestClassifier()\n",
    "# rf.fit(X_train, y_train)\n",
    "# preds = rf.predict_proba(X_test)[:, 1]\n",
    "\n",
    "precision, recall, thresholds = precision_recall_curve(y_test, preds)\n",
    "\n",
    "fscore = (2 * precision * recall) / (precision + recall)\n",
    "# locate the index of the largest f score\n",
    "ix = np.argmax(fscore)\n",
    "print('Best Threshold=%.3f, F-Score=%.3f, Precision=%.3f, Recall=%.3f' % (thresholds[ix], \n",
    "                                                                        fscore[ix],\n",
    "                                                                        precision[ix],\n",
    "                                                                        recall[ix]))\n",
    "\n",
    "roc_auc = roc_auc_score(y_true=y_test, y_score=preds)\n",
    "fscore = (2 * precision/50 * recall) / (precision/50 + recall)\n",
    "# locate the index of the largest f score\n",
    "ix = np.argmax(fscore)\n",
    "print('Best Threshold=%.3f, F-Score=%.3f, Precision=%.3f, Recall=%.3f' % (thresholds[ix], \n",
    "                                                                        fscore[ix],\n",
    "                                                                        precision[ix],\n",
    "                                                                        recall[ix]))\n",
    "\n",
    "roc_auc = roc_auc_score(y_true=y_test, y_score=preds)\n",
    "print(roc_auc)"
   ]
  },
  {
   "cell_type": "code",
   "execution_count": 157,
   "metadata": {},
   "outputs": [
    {
     "data": {
      "text/plain": [
       "0    0.9856\n",
       "1    0.0144\n",
       "Name: 0, dtype: float64"
      ]
     },
     "execution_count": 157,
     "metadata": {},
     "output_type": "execute_result"
    }
   ],
   "source": [
    "y_test.value_counts(normalize=True)"
   ]
  },
  {
   "cell_type": "code",
   "execution_count": 158,
   "metadata": {},
   "outputs": [
    {
     "data": {
      "text/plain": [
       "array([0.00091626, 0.00091626, 0.00091626, ..., 0.00078029, 0.00078029,\n",
       "       0.00078029])"
      ]
     },
     "execution_count": 158,
     "metadata": {},
     "output_type": "execute_result"
    }
   ],
   "source": [
    "preds = pipeline.predict_proba(df.drop(['0'], 1))[:, 1]\n",
    "preds"
   ]
  },
  {
   "cell_type": "code",
   "execution_count": 159,
   "metadata": {},
   "outputs": [
    {
     "data": {
      "text/plain": [
       "5000"
      ]
     },
     "execution_count": 159,
     "metadata": {},
     "output_type": "execute_result"
    }
   ],
   "source": [
    "len(preds)"
   ]
  },
  {
   "cell_type": "code",
   "execution_count": 160,
   "metadata": {},
   "outputs": [
    {
     "data": {
      "text/plain": [
       "array([0, 0, 0, ..., 0, 0, 0], dtype=int64)"
      ]
     },
     "execution_count": 160,
     "metadata": {},
     "output_type": "execute_result"
    }
   ],
   "source": [
    "np.array(y_test)"
   ]
  },
  {
   "cell_type": "code",
   "execution_count": 161,
   "metadata": {},
   "outputs": [
    {
     "data": {
      "image/png": "[encoded data removed]",
      "text/plain": [
       "<Figure size 1296x360 with 2 Axes>"
      ]
     },
     "metadata": {
      "needs_background": "light"
     },
     "output_type": "display_data"
    }
   ],
   "source": [
    "import matplotlib.pyplot as plt\n",
    "\n",
    "fig, ax = plt.subplots()\n",
    "fig.set_size_inches(18, 5)\n",
    "lns1 = ax.plot(preds)\n",
    "ax2 = ax.twinx()\n",
    "lns2 = ax2.plot(df['1'], linewidth=3, c='g', label='y')\n",
    "lns = lns1+lns2\n",
    "plt.show()"
   ]
  },
  {
   "cell_type": "code",
   "execution_count": 162,
   "metadata": {},
   "outputs": [
    {
     "data": {
      "image/png": "[encoded data removed]",
      "text/plain": [
       "<Figure size 504x504 with 1 Axes>"
      ]
     },
     "metadata": {
      "needs_background": "light"
     },
     "output_type": "display_data"
    },
    {
     "data": {
      "text/plain": [
       "-0.062472745052038356"
      ]
     },
     "execution_count": 162,
     "metadata": {},
     "output_type": "execute_result"
    }
   ],
   "source": [
    "plt.figure(figsize=(7,7))\n",
    "plt.scatter(df['1'], preds, s=2)\n",
    "plt.title('Диаграмма рассеяния')\n",
    "plt.xlabel('S&P 500')\n",
    "# plt.ylabel('казначейские облигации')\n",
    "plt.show()\n",
    "df['1'].corr(pd.Series(preds))\n"
   ]
  }
 ],
 "metadata": {
  "kernelspec": {
   "display_name": "Python 3",
   "language": "python",
   "name": "python3"
  },
  "language_info": {
   "codemirror_mode": {
    "name": "ipython",
    "version": 3
   },
   "file_extension": ".py",
   "mimetype": "text/x-python",
   "name": "python",
   "nbconvert_exporter": "python",
   "pygments_lexer": "ipython3",
   "version": "3.7.2"
  }
 },
 "nbformat": 4,
 "nbformat_minor": 4
}
